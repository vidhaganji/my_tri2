{
 "cells": [
  {
   "cell_type": "markdown",
   "metadata": {},
   "source": [
    "---\n",
    "toc: true\n",
    "comments: true\n",
    "layout: post\n",
    "title: Data Structures Write-Up\n",
    "description: \n",
    "type: hacks\n",
    "courses: { compsci: {week: 17} }\n",
    "---\n"
   ]
  },
  {
   "cell_type": "markdown",
   "metadata": {},
   "source": [
    "2024-4-17-data-structures.ipynb"
   ]
  },
  {
   "cell_type": "markdown",
   "metadata": {},
   "source": [
    " Blog Python API code and use of List and Dictionaries.\n",
    "\n",
    " Show a list as extracted from database as Python objects in VSCode using Debugger.\n",
    " \n",
    " Show two distinct examples of dictionaries, show Keys/Values using debugger in VSCode."
   ]
  },
  {
   "cell_type": "markdown",
   "metadata": {},
   "source": [
    " Blog Python API code and use of Postman to request and respond with JSON.\n",
    "\n",
    " Show Python API code definition for request and response using GET, POST, UPDATE methods in VSCode.\n",
    " \n",
    " Discuss algorithmic condition used to direct request to appropriate Python method based on request method.\n",
    "\n",
    " Show algorithmic conditions used to validate data on a POST condition in VSCode.\n",
    "\n",
    " Show URL request and Body requirements for GET, POST, and UPDATE methods in Postman.\n",
    "\n",
    " Show the JSON response data for 200 success conditions on GET, POST, and UPDATE methods in Postman.\n",
    "\n",
    " Show the JSON response for error for 400 when missing body on a POST request in Postman.\n",
    " \n",
    " Show the JSON response for error for 404 when providing an unknown user ID to a UPDATE request in Postman."
   ]
  },
  {
   "cell_type": "markdown",
   "metadata": {},
   "source": [
    " Blog JavaScript API fetch code and formatting code to display JSON.\n",
    "\n",
    " Show response of JSON objects from fetch of GET, POST, and UPDATE methods in Chrome inspect.\n",
    "\n",
    " Show a demo (GET) of obtaining an Array of JSON objects that are formatted into the browsers screen in the Chrome browser.\n",
    "\n",
    " Describe fetch and method that obtained the Array of JSON objects in JavaScript code.\n",
    "\n",
    " Show code that performs iteration and formatting of data into HTML in JavaScript code.\n",
    "\n",
    " Show a demo (POST or UPDATE) gathering and sending input and receiving a response that show update.\n",
    " \n",
    " Repeat this demo showing both success and failure in the Chrome browser.\n",
    "\n",
    " Show and describe code that handles success. Describe how code shows success to the user in the Chrome Browser screen in JavaScript code.\n",
    " \n",
    " Show and describe code that handles failure. Describe how the code shows failure to the user in the Chrome Browser screen in JavaScript code."
   ]
  },
  {
   "cell_type": "markdown",
   "metadata": {},
   "source": [
    " Machine Learning Algorithm Analysis\n",
    "\n",
    " Show algorithms and preparation of data for analysis. This includes cleaning, encoding, and one-hot encoding.\n",
    "\n",
    " Show algorithms and preparation for predictions.\n",
    "\n",
    " Discuss concepts and understanding of Linear Regression algorithms.\n",
    " \n",
    " Discuss concepts and understanding of Decision Tree analysis algorithms."
   ]
  },
  {
   "cell_type": "markdown",
   "metadata": {},
   "source": []
  },
  {
   "cell_type": "markdown",
   "metadata": {},
   "source": []
  },
  {
   "cell_type": "markdown",
   "metadata": {},
   "source": []
  },
  {
   "cell_type": "markdown",
   "metadata": {},
   "source": []
  },
  {
   "cell_type": "markdown",
   "metadata": {},
   "source": []
  },
  {
   "cell_type": "markdown",
   "metadata": {},
   "source": []
  },
  {
   "cell_type": "markdown",
   "metadata": {},
   "source": [
    "\n",
    "    "
   ]
  }
 ],
 "metadata": {
  "language_info": {
   "name": "python"
  }
 },
 "nbformat": 4,
 "nbformat_minor": 2
}
